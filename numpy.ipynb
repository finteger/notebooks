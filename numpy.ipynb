{
 "cells": [
  {
   "cell_type": "code",
   "execution_count": 95,
   "metadata": {},
   "outputs": [
    {
     "name": "stdout",
     "output_type": "stream",
     "text": [
      "1.24.3\n"
     ]
    }
   ],
   "source": [
    "import numpy as np\n",
    "\n",
    "#check the version\n",
    "print(np.__version__)"
   ]
  },
  {
   "cell_type": "code",
   "execution_count": 96,
   "metadata": {},
   "outputs": [
    {
     "name": "stdout",
     "output_type": "stream",
     "text": [
      "1\n",
      "2\n",
      "3\n"
     ]
    },
    {
     "data": {
      "text/plain": [
       "18"
      ]
     },
     "execution_count": 96,
     "metadata": {},
     "output_type": "execute_result"
    }
   ],
   "source": [
    "#Create a 1-dimensional array\n",
    "a1 = np.array([1, 2, 3])\n",
    "\n",
    "#Create a 2-dimensional array\n",
    "a2 = np.array([[1, 2, 3], [4, 5, 6]])\n",
    "\n",
    "#Create a 3-dimensional array also referred to as a matrix\n",
    "a3 = np.array([[[1, 2, 3],\n",
    "                [4, 5, 6],\n",
    "                [7, 8, 9]], \n",
    "                    [[1, 2, 3],\n",
    "                     [4, 5, 6],\n",
    "                     [7, 8, 9]]])\n",
    "\n",
    "print(a1.ndim)\n",
    "print(a2.ndim)\n",
    "print(a3.ndim)\n",
    "a3.shape\n",
    "a3.dtype\n",
    "a3.size"
   ]
  },
  {
   "cell_type": "code",
   "execution_count": 97,
   "metadata": {},
   "outputs": [
    {
     "data": {
      "text/html": [
       "<div>\n",
       "<style scoped>\n",
       "    .dataframe tbody tr th:only-of-type {\n",
       "        vertical-align: middle;\n",
       "    }\n",
       "\n",
       "    .dataframe tbody tr th {\n",
       "        vertical-align: top;\n",
       "    }\n",
       "\n",
       "    .dataframe thead th {\n",
       "        text-align: right;\n",
       "    }\n",
       "</style>\n",
       "<table border=\"1\" class=\"dataframe\">\n",
       "  <thead>\n",
       "    <tr style=\"text-align: right;\">\n",
       "      <th></th>\n",
       "      <th>a</th>\n",
       "      <th>b</th>\n",
       "      <th>c</th>\n",
       "    </tr>\n",
       "  </thead>\n",
       "  <tbody>\n",
       "    <tr>\n",
       "      <th>0</th>\n",
       "      <td>257941</td>\n",
       "      <td>792793</td>\n",
       "      <td>574751</td>\n",
       "    </tr>\n",
       "    <tr>\n",
       "      <th>1</th>\n",
       "      <td>493749</td>\n",
       "      <td>241545</td>\n",
       "      <td>56422</td>\n",
       "    </tr>\n",
       "    <tr>\n",
       "      <th>2</th>\n",
       "      <td>687398</td>\n",
       "      <td>137755</td>\n",
       "      <td>72563</td>\n",
       "    </tr>\n",
       "    <tr>\n",
       "      <th>3</th>\n",
       "      <td>652160</td>\n",
       "      <td>681692</td>\n",
       "      <td>807824</td>\n",
       "    </tr>\n",
       "    <tr>\n",
       "      <th>4</th>\n",
       "      <td>46618</td>\n",
       "      <td>252697</td>\n",
       "      <td>506913</td>\n",
       "    </tr>\n",
       "  </tbody>\n",
       "</table>\n",
       "</div>"
      ],
      "text/plain": [
       "        a       b       c\n",
       "0  257941  792793  574751\n",
       "1  493749  241545   56422\n",
       "2  687398  137755   72563\n",
       "3  652160  681692  807824\n",
       "4   46618  252697  506913"
      ]
     },
     "execution_count": 97,
     "metadata": {},
     "output_type": "execute_result"
    }
   ],
   "source": [
    "import pandas as pd\n",
    "\n",
    "df = pd.DataFrame(np.random.randint(1000000,size=(5,3)),columns=['a', 'b', 'c'])\n",
    "df"
   ]
  },
  {
   "cell_type": "code",
   "execution_count": 98,
   "metadata": {},
   "outputs": [
    {
     "data": {
      "text/plain": [
       "array([[1, 1],\n",
       "       [1, 1],\n",
       "       [1, 1],\n",
       "       [1, 1],\n",
       "       [1, 1],\n",
       "       [1, 1],\n",
       "       [1, 1],\n",
       "       [1, 1],\n",
       "       [1, 1],\n",
       "       [1, 1]])"
      ]
     },
     "execution_count": 98,
     "metadata": {},
     "output_type": "execute_result"
    }
   ],
   "source": [
    "ones = np.ones((10,2))\n",
    "ones\n",
    "\n",
    "zero = np.zeros((10,2))\n",
    "\n",
    "\n",
    "one_int = ones.astype(int)\n",
    "one_int"
   ]
  },
  {
   "cell_type": "code",
   "execution_count": 99,
   "metadata": {},
   "outputs": [
    {
     "data": {
      "text/plain": [
       "array([[0.82235681, 0.30255721, 0.02077114, 0.02143438, 0.03992886,\n",
       "        0.0368303 , 0.93008511, 0.45538086, 0.15679932, 0.93783115,\n",
       "        0.33372013, 0.28409642, 0.88543817, 0.55778133, 0.81080017,\n",
       "        0.99149789, 0.80418735, 0.04434907, 0.94353796, 0.1277704 ],\n",
       "       [0.72103272, 0.38691737, 0.05912633, 0.19140655, 0.25141085,\n",
       "        0.04848674, 0.06799153, 0.3311165 , 0.25325002, 0.37826269,\n",
       "        0.93093461, 0.76802027, 0.4898822 , 0.99638967, 0.476971  ,\n",
       "        0.42102461, 0.78955443, 0.56278535, 0.37981183, 0.19160946],\n",
       "       [0.23059955, 0.92468832, 0.17439967, 0.79142576, 0.83914346,\n",
       "        0.0032003 , 0.36358236, 0.6831319 , 0.97378696, 0.15571029,\n",
       "        0.79513293, 0.80625465, 0.73381123, 0.33473111, 0.06718256,\n",
       "        0.41615553, 0.66651093, 0.20966836, 0.09129441, 0.06101933],\n",
       "       [0.86954155, 0.15275052, 0.98346972, 0.96342257, 0.4948337 ,\n",
       "        0.24615816, 0.35468544, 0.31006392, 0.17065161, 0.85771937,\n",
       "        0.08551886, 0.74282909, 0.24403834, 0.97147001, 0.88897439,\n",
       "        0.23757573, 0.21591384, 0.47030935, 0.70261659, 0.89103193],\n",
       "       [0.28560585, 0.96122941, 0.39860455, 0.1080377 , 0.26610913,\n",
       "        0.65034009, 0.90249947, 0.93662757, 0.90717438, 0.54313553,\n",
       "        0.6445427 , 0.06825028, 0.64544177, 0.97631172, 0.96277006,\n",
       "        0.08018115, 0.24406939, 0.76973034, 0.04361486, 0.12159168]])"
      ]
     },
     "execution_count": 99,
     "metadata": {},
     "output_type": "execute_result"
    }
   ],
   "source": [
    "arry1 = np.random.random((5, 20))\n",
    "\n",
    "arry1\n"
   ]
  }
 ],
 "metadata": {
  "kernelspec": {
   "display_name": "base",
   "language": "python",
   "name": "python3"
  },
  "language_info": {
   "codemirror_mode": {
    "name": "ipython",
    "version": 3
   },
   "file_extension": ".py",
   "mimetype": "text/x-python",
   "name": "python",
   "nbconvert_exporter": "python",
   "pygments_lexer": "ipython3",
   "version": "3.11.5"
  }
 },
 "nbformat": 4,
 "nbformat_minor": 2
}
