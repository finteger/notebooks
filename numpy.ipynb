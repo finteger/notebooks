{
 "cells": [
  {
   "cell_type": "code",
   "execution_count": 100,
   "metadata": {},
   "outputs": [
    {
     "name": "stdout",
     "output_type": "stream",
     "text": [
      "1.24.3\n"
     ]
    }
   ],
   "source": [
    "import numpy as np\n",
    "\n",
    "#check the version\n",
    "print(np.__version__)"
   ]
  },
  {
   "cell_type": "code",
   "execution_count": 101,
   "metadata": {},
   "outputs": [
    {
     "name": "stdout",
     "output_type": "stream",
     "text": [
      "1\n",
      "2\n",
      "3\n"
     ]
    },
    {
     "data": {
      "text/plain": [
       "18"
      ]
     },
     "execution_count": 101,
     "metadata": {},
     "output_type": "execute_result"
    }
   ],
   "source": [
    "#Create a 1-dimensional array\n",
    "a1 = np.array([1, 2, 3])\n",
    "\n",
    "#Create a 2-dimensional array\n",
    "a2 = np.array([[1, 2, 3], [4, 5, 6]])\n",
    "\n",
    "#Create a 3-dimensional array also referred to as a matrix\n",
    "a3 = np.array([[[1, 2, 3],\n",
    "                [4, 5, 6],\n",
    "                [7, 8, 9]], \n",
    "                    [[1, 2, 3],\n",
    "                     [4, 5, 6],\n",
    "                     [7, 8, 9]]])\n",
    "\n",
    "print(a1.ndim)\n",
    "print(a2.ndim)\n",
    "print(a3.ndim)\n",
    "a3.shape\n",
    "a3.dtype\n",
    "a3.size"
   ]
  },
  {
   "cell_type": "code",
   "execution_count": 102,
   "metadata": {},
   "outputs": [
    {
     "data": {
      "text/html": [
       "<div>\n",
       "<style scoped>\n",
       "    .dataframe tbody tr th:only-of-type {\n",
       "        vertical-align: middle;\n",
       "    }\n",
       "\n",
       "    .dataframe tbody tr th {\n",
       "        vertical-align: top;\n",
       "    }\n",
       "\n",
       "    .dataframe thead th {\n",
       "        text-align: right;\n",
       "    }\n",
       "</style>\n",
       "<table border=\"1\" class=\"dataframe\">\n",
       "  <thead>\n",
       "    <tr style=\"text-align: right;\">\n",
       "      <th></th>\n",
       "      <th>a</th>\n",
       "      <th>b</th>\n",
       "      <th>c</th>\n",
       "    </tr>\n",
       "  </thead>\n",
       "  <tbody>\n",
       "    <tr>\n",
       "      <th>0</th>\n",
       "      <td>186523</td>\n",
       "      <td>750472</td>\n",
       "      <td>759463</td>\n",
       "    </tr>\n",
       "    <tr>\n",
       "      <th>1</th>\n",
       "      <td>156057</td>\n",
       "      <td>826593</td>\n",
       "      <td>357994</td>\n",
       "    </tr>\n",
       "    <tr>\n",
       "      <th>2</th>\n",
       "      <td>873617</td>\n",
       "      <td>904762</td>\n",
       "      <td>709125</td>\n",
       "    </tr>\n",
       "    <tr>\n",
       "      <th>3</th>\n",
       "      <td>717595</td>\n",
       "      <td>911488</td>\n",
       "      <td>604706</td>\n",
       "    </tr>\n",
       "    <tr>\n",
       "      <th>4</th>\n",
       "      <td>561547</td>\n",
       "      <td>398210</td>\n",
       "      <td>374406</td>\n",
       "    </tr>\n",
       "  </tbody>\n",
       "</table>\n",
       "</div>"
      ],
      "text/plain": [
       "        a       b       c\n",
       "0  186523  750472  759463\n",
       "1  156057  826593  357994\n",
       "2  873617  904762  709125\n",
       "3  717595  911488  604706\n",
       "4  561547  398210  374406"
      ]
     },
     "execution_count": 102,
     "metadata": {},
     "output_type": "execute_result"
    }
   ],
   "source": [
    "import pandas as pd\n",
    "\n",
    "df = pd.DataFrame(np.random.randint(1000000,size=(5,3)),columns=['a', 'b', 'c'])\n",
    "df"
   ]
  },
  {
   "cell_type": "code",
   "execution_count": 103,
   "metadata": {},
   "outputs": [
    {
     "data": {
      "text/plain": [
       "array([[1, 1],\n",
       "       [1, 1],\n",
       "       [1, 1],\n",
       "       [1, 1],\n",
       "       [1, 1],\n",
       "       [1, 1],\n",
       "       [1, 1],\n",
       "       [1, 1],\n",
       "       [1, 1],\n",
       "       [1, 1]])"
      ]
     },
     "execution_count": 103,
     "metadata": {},
     "output_type": "execute_result"
    }
   ],
   "source": [
    "ones = np.ones((10,2))\n",
    "ones\n",
    "\n",
    "zero = np.zeros((10,2))\n",
    "\n",
    "\n",
    "one_int = ones.astype(int)\n",
    "one_int"
   ]
  },
  {
   "cell_type": "code",
   "execution_count": 104,
   "metadata": {},
   "outputs": [
    {
     "data": {
      "text/plain": [
       "array([[0.91332226, 0.34434291, 0.92671272, ..., 0.06042866, 0.06473967,\n",
       "        0.9952494 ],\n",
       "       [0.91623416, 0.43746053, 0.58680968, ..., 0.09797158, 0.98640933,\n",
       "        0.05229933],\n",
       "       [0.5614195 , 0.55055061, 0.21806192, ..., 0.56939343, 0.73224463,\n",
       "        0.37358504],\n",
       "       ...,\n",
       "       [0.53544029, 0.65177868, 0.88265293, ..., 0.8083472 , 0.67416441,\n",
       "        0.46689298],\n",
       "       [0.82640843, 0.01483418, 0.74771362, ..., 0.32119783, 0.03369692,\n",
       "        0.81409072],\n",
       "       [0.71310201, 0.53339421, 0.86631978, ..., 0.82168669, 0.97977432,\n",
       "        0.96856888]])"
      ]
     },
     "execution_count": 104,
     "metadata": {},
     "output_type": "execute_result"
    }
   ],
   "source": [
    "arry1 = np.random.random((5, 20))\n",
    "\n",
    "\n"
   ]
  }
 ],
 "metadata": {
  "kernelspec": {
   "display_name": "base",
   "language": "python",
   "name": "python3"
  },
  "language_info": {
   "codemirror_mode": {
    "name": "ipython",
    "version": 3
   },
   "file_extension": ".py",
   "mimetype": "text/x-python",
   "name": "python",
   "nbconvert_exporter": "python",
   "pygments_lexer": "ipython3",
   "version": "3.11.5"
  }
 },
 "nbformat": 4,
 "nbformat_minor": 2
}
